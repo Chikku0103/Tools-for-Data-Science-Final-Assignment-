{
 "cells": [
  {
   "cell_type": "markdown",
   "id": "e1c1f61f-0f71-4c52-b5a6-f6c1ffb28264",
   "metadata": {},
   "source": [
    " # Data Science Tools and Ecosystem"
   ]
  },
  {
   "cell_type": "markdown",
   "id": "e32b17a5-c6ad-42e1-a30b-cd5eead198c4",
   "metadata": {},
   "source": [
    "In this notebook, Data Science Tools and Ecosystem are summarized."
   ]
  },
  {
   "cell_type": "markdown",
   "id": "47f44873-9a31-4134-952c-8e7336553924",
   "metadata": {},
   "source": [
    "Some of the popular languages that Data Scientists use are:\n",
    "\n",
    "1. Python\n",
    "2. R\n",
    "3. SQL\n",
    "4. Julia"
   ]
  },
  {
   "cell_type": "markdown",
   "id": "a2978c0c-17ef-41fa-8cd5-647af6ece67e",
   "metadata": {},
   "source": [
    "Some of the commonly used libraries used by Data Scientists include:\n",
    "\n",
    "1. Pandas\n",
    "2. NumPy\n",
    "3. Matplotlib\n",
    "4. Scikit-learn"
   ]
  },
  {
   "cell_type": "markdown",
   "id": "d51cb297-8412-4a4d-bf8b-e5d7c5fabce3",
   "metadata": {},
   "source": [
    "| Data Science Tools           |\n",
    "|------------------------------|\n",
    "| Jupyter Notebook              |\n",
    "| RStudio                       |\n",
    "| Apache Zeppelin               |"
   ]
  },
  {
   "cell_type": "markdown",
   "id": "5c292c2c-88ba-42e8-beaf-45cbcdd11ea1",
   "metadata": {},
   "source": [
    "### Below are a few examples of evaluating arithmetic expressions in Python."
   ]
  },
  {
   "cell_type": "markdown",
   "id": "0b0e89f3-5265-4732-b10b-b042df3f54e1",
   "metadata": {},
   "source": [
    "# This is a simple arithmetic expression to multiply then add integers"
   ]
  },
  {
   "cell_type": "code",
   "execution_count": 1,
   "id": "117794fd-9225-445c-a0df-3ebfcbdbaaa7",
   "metadata": {
    "tags": []
   },
   "outputs": [
    {
     "data": {
      "text/plain": [
       "17"
      ]
     },
     "execution_count": 1,
     "metadata": {},
     "output_type": "execute_result"
    }
   ],
   "source": [
    "(3 * 4) + 5"
   ]
  },
  {
   "cell_type": "markdown",
   "id": "261c6b05-827a-42c4-acb7-bdced13e3173",
   "metadata": {},
   "source": [
    "# This will convert 200 minutes to hours by dividing by 60"
   ]
  },
  {
   "cell_type": "code",
   "execution_count": 2,
   "id": "2c657833-42e8-4a93-af18-243f20836a56",
   "metadata": {
    "tags": []
   },
   "outputs": [
    {
     "data": {
      "text/plain": [
       "3.3333333333333335"
      ]
     },
     "execution_count": 2,
     "metadata": {},
     "output_type": "execute_result"
    }
   ],
   "source": [
    "200 / 60"
   ]
  },
  {
   "cell_type": "markdown",
   "id": "5fcd4974-9f16-41e3-bdd3-07ba58574aec",
   "metadata": {},
   "source": [
    "**Objectives:**"
   ]
  },
  {
   "cell_type": "markdown",
   "id": "2ef70fce-e43f-42fc-b2f5-d7db830b1737",
   "metadata": {},
   "source": [
    "**Objectives:**\n",
    "- List popular languages for Data Science\n",
    "- List commonly used libraries in Data Science\n",
    "- Create and execute arithmetic expressions in Python\n",
    "- Convert minutes to hours using Python code\n",
    "- Understand the tools used in Data Science"
   ]
  },
  {
   "cell_type": "markdown",
   "id": "977ec544-8902-4085-96c8-756bed53a09c",
   "metadata": {},
   "source": [
    "## Author\n",
    "Amit Raj"
   ]
  },
  {
   "cell_type": "code",
   "execution_count": null,
   "id": "485ef77f-86d8-42fa-9aca-e017caac9774",
   "metadata": {},
   "outputs": [],
   "source": []
  }
 ],
 "metadata": {
  "kernelspec": {
   "display_name": "Python",
   "language": "python",
   "name": "conda-env-python-py"
  },
  "language_info": {
   "codemirror_mode": {
    "name": "ipython",
    "version": 3
   },
   "file_extension": ".py",
   "mimetype": "text/x-python",
   "name": "python",
   "nbconvert_exporter": "python",
   "pygments_lexer": "ipython3",
   "version": "3.7.12"
  }
 },
 "nbformat": 4,
 "nbformat_minor": 5
}
